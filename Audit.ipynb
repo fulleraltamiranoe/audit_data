{
 "cells": [
  {
   "cell_type": "code",
   "execution_count": 1,
   "metadata": {},
   "outputs": [
    {
     "name": "stderr",
     "output_type": "stream",
     "text": [
      "── \u001b[1mAttaching packages\u001b[22m ─────────────────────────────────────── tidyverse 1.3.0 ──\n",
      "\n",
      "\u001b[32m✔\u001b[39m \u001b[34mggplot2\u001b[39m 3.3.2     \u001b[32m✔\u001b[39m \u001b[34mpurrr  \u001b[39m 0.3.4\n",
      "\u001b[32m✔\u001b[39m \u001b[34mtibble \u001b[39m 3.0.3     \u001b[32m✔\u001b[39m \u001b[34mdplyr  \u001b[39m 1.0.2\n",
      "\u001b[32m✔\u001b[39m \u001b[34mtidyr  \u001b[39m 1.1.2     \u001b[32m✔\u001b[39m \u001b[34mstringr\u001b[39m 1.4.0\n",
      "\u001b[32m✔\u001b[39m \u001b[34mreadr  \u001b[39m 1.3.1     \u001b[32m✔\u001b[39m \u001b[34mforcats\u001b[39m 0.5.0\n",
      "\n",
      "Warning message:\n",
      "“package ‘ggplot2’ was built under R version 4.0.1”\n",
      "Warning message:\n",
      "“package ‘tibble’ was built under R version 4.0.2”\n",
      "Warning message:\n",
      "“package ‘tidyr’ was built under R version 4.0.2”\n",
      "Warning message:\n",
      "“package ‘dplyr’ was built under R version 4.0.2”\n",
      "── \u001b[1mConflicts\u001b[22m ────────────────────────────────────────── tidyverse_conflicts() ──\n",
      "\u001b[31m✖\u001b[39m \u001b[34mdplyr\u001b[39m::\u001b[32mfilter()\u001b[39m masks \u001b[34mstats\u001b[39m::filter()\n",
      "\u001b[31m✖\u001b[39m \u001b[34mdplyr\u001b[39m::\u001b[32mlag()\u001b[39m    masks \u001b[34mstats\u001b[39m::lag()\n",
      "\n"
     ]
    }
   ],
   "source": [
    "library(tidyverse)\n",
    "options(repr.matrix.max.rows = 6)"
   ]
  },
  {
   "cell_type": "code",
   "execution_count": 7,
   "metadata": {},
   "outputs": [
    {
     "name": "stderr",
     "output_type": "stream",
     "text": [
      "Parsed with column specification:\n",
      "cols(\n",
      "  Sector_score = \u001b[32mcol_double()\u001b[39m,\n",
      "  LOCATION_ID = \u001b[31mcol_character()\u001b[39m,\n",
      "  PARA_A = \u001b[32mcol_double()\u001b[39m,\n",
      "  SCORE_A = \u001b[32mcol_double()\u001b[39m,\n",
      "  PARA_B = \u001b[32mcol_double()\u001b[39m,\n",
      "  SCORE_B = \u001b[32mcol_double()\u001b[39m,\n",
      "  TOTAL = \u001b[32mcol_double()\u001b[39m,\n",
      "  numbers = \u001b[32mcol_double()\u001b[39m,\n",
      "  Marks = \u001b[32mcol_double()\u001b[39m,\n",
      "  Money_Value = \u001b[32mcol_double()\u001b[39m,\n",
      "  MONEY_Marks = \u001b[32mcol_double()\u001b[39m,\n",
      "  District = \u001b[32mcol_double()\u001b[39m,\n",
      "  Loss = \u001b[32mcol_double()\u001b[39m,\n",
      "  LOSS_SCORE = \u001b[32mcol_double()\u001b[39m,\n",
      "  History = \u001b[32mcol_double()\u001b[39m,\n",
      "  History_score = \u001b[32mcol_double()\u001b[39m,\n",
      "  Score = \u001b[32mcol_double()\u001b[39m,\n",
      "  Risk = \u001b[32mcol_double()\u001b[39m\n",
      ")\n",
      "\n",
      "Warning message:\n",
      "“Duplicated column names deduplicated: 'Score_B' => 'Score_B_1' [11]”\n",
      "Parsed with column specification:\n",
      "cols(\n",
      "  .default = col_double(),\n",
      "  LOCATION_ID = \u001b[31mcol_character()\u001b[39m\n",
      ")\n",
      "\n",
      "See spec(...) for full column specifications.\n",
      "\n"
     ]
    }
   ],
   "source": [
    "audit_trial_data <- read_csv(\"https://raw.githubusercontent.com/fulleraltamiranoe/audit_data/main/trial.csv\")\n",
    "audit_risk_data <- read_csv(\"https://raw.githubusercontent.com/fulleraltamiranoe/audit_data/main/audit_risk.csv\")"
   ]
  },
  {
   "cell_type": "code",
   "execution_count": 8,
   "metadata": {},
   "outputs": [
    {
     "data": {
      "text/html": [
       "<table>\n",
       "<caption>A spec_tbl_df: 776 × 18</caption>\n",
       "<thead>\n",
       "\t<tr><th scope=col>Sector_score</th><th scope=col>LOCATION_ID</th><th scope=col>PARA_A</th><th scope=col>SCORE_A</th><th scope=col>PARA_B</th><th scope=col>SCORE_B</th><th scope=col>TOTAL</th><th scope=col>numbers</th><th scope=col>Marks</th><th scope=col>Money_Value</th><th scope=col>MONEY_Marks</th><th scope=col>District</th><th scope=col>Loss</th><th scope=col>LOSS_SCORE</th><th scope=col>History</th><th scope=col>History_score</th><th scope=col>Score</th><th scope=col>Risk</th></tr>\n",
       "\t<tr><th scope=col>&lt;dbl&gt;</th><th scope=col>&lt;chr&gt;</th><th scope=col>&lt;dbl&gt;</th><th scope=col>&lt;dbl&gt;</th><th scope=col>&lt;dbl&gt;</th><th scope=col>&lt;dbl&gt;</th><th scope=col>&lt;dbl&gt;</th><th scope=col>&lt;dbl&gt;</th><th scope=col>&lt;dbl&gt;</th><th scope=col>&lt;dbl&gt;</th><th scope=col>&lt;dbl&gt;</th><th scope=col>&lt;dbl&gt;</th><th scope=col>&lt;dbl&gt;</th><th scope=col>&lt;dbl&gt;</th><th scope=col>&lt;dbl&gt;</th><th scope=col>&lt;dbl&gt;</th><th scope=col>&lt;dbl&gt;</th><th scope=col>&lt;dbl&gt;</th></tr>\n",
       "</thead>\n",
       "<tbody>\n",
       "\t<tr><td>3.89</td><td>23</td><td>4.18</td><td>6</td><td>2.50</td><td>2</td><td>6.68</td><td>5</td><td>2</td><td>3.38</td><td>2</td><td>2</td><td>0</td><td>2</td><td>0</td><td>2</td><td>2.4</td><td>1</td></tr>\n",
       "\t<tr><td>3.89</td><td>6 </td><td>0.00</td><td>2</td><td>4.83</td><td>2</td><td>4.83</td><td>5</td><td>2</td><td>0.94</td><td>2</td><td>2</td><td>0</td><td>2</td><td>0</td><td>2</td><td>2.0</td><td>0</td></tr>\n",
       "\t<tr><td>3.89</td><td>6 </td><td>0.51</td><td>2</td><td>0.23</td><td>2</td><td>0.74</td><td>5</td><td>2</td><td>0.00</td><td>2</td><td>2</td><td>0</td><td>2</td><td>0</td><td>2</td><td>2.0</td><td>0</td></tr>\n",
       "\t<tr><td>⋮</td><td>⋮</td><td>⋮</td><td>⋮</td><td>⋮</td><td>⋮</td><td>⋮</td><td>⋮</td><td>⋮</td><td>⋮</td><td>⋮</td><td>⋮</td><td>⋮</td><td>⋮</td><td>⋮</td><td>⋮</td><td>⋮</td><td>⋮</td></tr>\n",
       "\t<tr><td>55.57</td><td>14</td><td>0.24</td><td>2</td><td>0.04</td><td>2</td><td>0.28</td><td>5</td><td>2</td><td>0.00</td><td>2</td><td>2</td><td>0</td><td>2</td><td>0</td><td>2</td><td>2</td><td>0</td></tr>\n",
       "\t<tr><td>55.57</td><td>18</td><td>0.20</td><td>2</td><td>0.00</td><td>2</td><td>0.20</td><td>5</td><td>2</td><td>0.00</td><td>2</td><td>2</td><td>0</td><td>2</td><td>0</td><td>2</td><td>2</td><td>0</td></tr>\n",
       "\t<tr><td>55.57</td><td>15</td><td>0.00</td><td>2</td><td>0.00</td><td>2</td><td>0.00</td><td>5</td><td>2</td><td>0.32</td><td>2</td><td>2</td><td>0</td><td>2</td><td>0</td><td>2</td><td>2</td><td>0</td></tr>\n",
       "</tbody>\n",
       "</table>\n"
      ],
      "text/latex": [
       "A spec\\_tbl\\_df: 776 × 18\n",
       "\\begin{tabular}{llllllllllllllllll}\n",
       " Sector\\_score & LOCATION\\_ID & PARA\\_A & SCORE\\_A & PARA\\_B & SCORE\\_B & TOTAL & numbers & Marks & Money\\_Value & MONEY\\_Marks & District & Loss & LOSS\\_SCORE & History & History\\_score & Score & Risk\\\\\n",
       " <dbl> & <chr> & <dbl> & <dbl> & <dbl> & <dbl> & <dbl> & <dbl> & <dbl> & <dbl> & <dbl> & <dbl> & <dbl> & <dbl> & <dbl> & <dbl> & <dbl> & <dbl>\\\\\n",
       "\\hline\n",
       "\t 3.89 & 23 & 4.18 & 6 & 2.50 & 2 & 6.68 & 5 & 2 & 3.38 & 2 & 2 & 0 & 2 & 0 & 2 & 2.4 & 1\\\\\n",
       "\t 3.89 & 6  & 0.00 & 2 & 4.83 & 2 & 4.83 & 5 & 2 & 0.94 & 2 & 2 & 0 & 2 & 0 & 2 & 2.0 & 0\\\\\n",
       "\t 3.89 & 6  & 0.51 & 2 & 0.23 & 2 & 0.74 & 5 & 2 & 0.00 & 2 & 2 & 0 & 2 & 0 & 2 & 2.0 & 0\\\\\n",
       "\t ⋮ & ⋮ & ⋮ & ⋮ & ⋮ & ⋮ & ⋮ & ⋮ & ⋮ & ⋮ & ⋮ & ⋮ & ⋮ & ⋮ & ⋮ & ⋮ & ⋮ & ⋮\\\\\n",
       "\t 55.57 & 14 & 0.24 & 2 & 0.04 & 2 & 0.28 & 5 & 2 & 0.00 & 2 & 2 & 0 & 2 & 0 & 2 & 2 & 0\\\\\n",
       "\t 55.57 & 18 & 0.20 & 2 & 0.00 & 2 & 0.20 & 5 & 2 & 0.00 & 2 & 2 & 0 & 2 & 0 & 2 & 2 & 0\\\\\n",
       "\t 55.57 & 15 & 0.00 & 2 & 0.00 & 2 & 0.00 & 5 & 2 & 0.32 & 2 & 2 & 0 & 2 & 0 & 2 & 2 & 0\\\\\n",
       "\\end{tabular}\n"
      ],
      "text/markdown": [
       "\n",
       "A spec_tbl_df: 776 × 18\n",
       "\n",
       "| Sector_score &lt;dbl&gt; | LOCATION_ID &lt;chr&gt; | PARA_A &lt;dbl&gt; | SCORE_A &lt;dbl&gt; | PARA_B &lt;dbl&gt; | SCORE_B &lt;dbl&gt; | TOTAL &lt;dbl&gt; | numbers &lt;dbl&gt; | Marks &lt;dbl&gt; | Money_Value &lt;dbl&gt; | MONEY_Marks &lt;dbl&gt; | District &lt;dbl&gt; | Loss &lt;dbl&gt; | LOSS_SCORE &lt;dbl&gt; | History &lt;dbl&gt; | History_score &lt;dbl&gt; | Score &lt;dbl&gt; | Risk &lt;dbl&gt; |\n",
       "|---|---|---|---|---|---|---|---|---|---|---|---|---|---|---|---|---|---|\n",
       "| 3.89 | 23 | 4.18 | 6 | 2.50 | 2 | 6.68 | 5 | 2 | 3.38 | 2 | 2 | 0 | 2 | 0 | 2 | 2.4 | 1 |\n",
       "| 3.89 | 6  | 0.00 | 2 | 4.83 | 2 | 4.83 | 5 | 2 | 0.94 | 2 | 2 | 0 | 2 | 0 | 2 | 2.0 | 0 |\n",
       "| 3.89 | 6  | 0.51 | 2 | 0.23 | 2 | 0.74 | 5 | 2 | 0.00 | 2 | 2 | 0 | 2 | 0 | 2 | 2.0 | 0 |\n",
       "| ⋮ | ⋮ | ⋮ | ⋮ | ⋮ | ⋮ | ⋮ | ⋮ | ⋮ | ⋮ | ⋮ | ⋮ | ⋮ | ⋮ | ⋮ | ⋮ | ⋮ | ⋮ |\n",
       "| 55.57 | 14 | 0.24 | 2 | 0.04 | 2 | 0.28 | 5 | 2 | 0.00 | 2 | 2 | 0 | 2 | 0 | 2 | 2 | 0 |\n",
       "| 55.57 | 18 | 0.20 | 2 | 0.00 | 2 | 0.20 | 5 | 2 | 0.00 | 2 | 2 | 0 | 2 | 0 | 2 | 2 | 0 |\n",
       "| 55.57 | 15 | 0.00 | 2 | 0.00 | 2 | 0.00 | 5 | 2 | 0.32 | 2 | 2 | 0 | 2 | 0 | 2 | 2 | 0 |\n",
       "\n"
      ],
      "text/plain": [
       "    Sector_score LOCATION_ID PARA_A SCORE_A PARA_B SCORE_B TOTAL numbers Marks\n",
       "1   3.89         23          4.18   6       2.50   2       6.68  5       2    \n",
       "2   3.89         6           0.00   2       4.83   2       4.83  5       2    \n",
       "3   3.89         6           0.51   2       0.23   2       0.74  5       2    \n",
       "⋮   ⋮            ⋮           ⋮      ⋮       ⋮      ⋮       ⋮     ⋮       ⋮    \n",
       "774 55.57        14          0.24   2       0.04   2       0.28  5       2    \n",
       "775 55.57        18          0.20   2       0.00   2       0.20  5       2    \n",
       "776 55.57        15          0.00   2       0.00   2       0.00  5       2    \n",
       "    Money_Value MONEY_Marks District Loss LOSS_SCORE History History_score\n",
       "1   3.38        2           2        0    2          0       2            \n",
       "2   0.94        2           2        0    2          0       2            \n",
       "3   0.00        2           2        0    2          0       2            \n",
       "⋮   ⋮           ⋮           ⋮        ⋮    ⋮          ⋮       ⋮            \n",
       "774 0.00        2           2        0    2          0       2            \n",
       "775 0.00        2           2        0    2          0       2            \n",
       "776 0.32        2           2        0    2          0       2            \n",
       "    Score Risk\n",
       "1   2.4   1   \n",
       "2   2.0   0   \n",
       "3   2.0   0   \n",
       "⋮   ⋮     ⋮   \n",
       "774 2     0   \n",
       "775 2     0   \n",
       "776 2     0   "
      ]
     },
     "metadata": {},
     "output_type": "display_data"
    },
    {
     "data": {
      "text/html": [
       "<table>\n",
       "<caption>A spec_tbl_df: 776 × 27</caption>\n",
       "<thead>\n",
       "\t<tr><th scope=col>Sector_score</th><th scope=col>LOCATION_ID</th><th scope=col>PARA_A</th><th scope=col>Score_A</th><th scope=col>Risk_A</th><th scope=col>PARA_B</th><th scope=col>Score_B</th><th scope=col>Risk_B</th><th scope=col>TOTAL</th><th scope=col>numbers</th><th scope=col>⋯</th><th scope=col>RiSk_E</th><th scope=col>History</th><th scope=col>Prob</th><th scope=col>Risk_F</th><th scope=col>Score</th><th scope=col>Inherent_Risk</th><th scope=col>CONTROL_RISK</th><th scope=col>Detection_Risk</th><th scope=col>Audit_Risk</th><th scope=col>Risk</th></tr>\n",
       "\t<tr><th scope=col>&lt;dbl&gt;</th><th scope=col>&lt;chr&gt;</th><th scope=col>&lt;dbl&gt;</th><th scope=col>&lt;dbl&gt;</th><th scope=col>&lt;dbl&gt;</th><th scope=col>&lt;dbl&gt;</th><th scope=col>&lt;dbl&gt;</th><th scope=col>&lt;dbl&gt;</th><th scope=col>&lt;dbl&gt;</th><th scope=col>&lt;dbl&gt;</th><th scope=col>⋯</th><th scope=col>&lt;dbl&gt;</th><th scope=col>&lt;dbl&gt;</th><th scope=col>&lt;dbl&gt;</th><th scope=col>&lt;dbl&gt;</th><th scope=col>&lt;dbl&gt;</th><th scope=col>&lt;dbl&gt;</th><th scope=col>&lt;dbl&gt;</th><th scope=col>&lt;dbl&gt;</th><th scope=col>&lt;dbl&gt;</th><th scope=col>&lt;dbl&gt;</th></tr>\n",
       "</thead>\n",
       "<tbody>\n",
       "\t<tr><td>3.89</td><td>23</td><td>4.18</td><td>0.6</td><td>2.508</td><td>2.50</td><td>0.2</td><td>0.500</td><td>6.68</td><td>5</td><td>⋯</td><td>0.4</td><td>0</td><td>0.2</td><td>0</td><td>2.4</td><td>8.574</td><td>0.4</td><td>0.5</td><td>1.7148</td><td>1</td></tr>\n",
       "\t<tr><td>3.89</td><td>6 </td><td>0.00</td><td>0.2</td><td>0.000</td><td>4.83</td><td>0.2</td><td>0.966</td><td>4.83</td><td>5</td><td>⋯</td><td>0.4</td><td>0</td><td>0.2</td><td>0</td><td>2.0</td><td>2.554</td><td>0.4</td><td>0.5</td><td>0.5108</td><td>0</td></tr>\n",
       "\t<tr><td>3.89</td><td>6 </td><td>0.51</td><td>0.2</td><td>0.102</td><td>0.23</td><td>0.2</td><td>0.046</td><td>0.74</td><td>5</td><td>⋯</td><td>0.4</td><td>0</td><td>0.2</td><td>0</td><td>2.0</td><td>1.548</td><td>0.4</td><td>0.5</td><td>0.3096</td><td>0</td></tr>\n",
       "\t<tr><td>⋮</td><td>⋮</td><td>⋮</td><td>⋮</td><td>⋮</td><td>⋮</td><td>⋮</td><td>⋮</td><td>⋮</td><td>⋮</td><td>⋱</td><td>⋮</td><td>⋮</td><td>⋮</td><td>⋮</td><td>⋮</td><td>⋮</td><td>⋮</td><td>⋮</td><td>⋮</td><td>⋮</td></tr>\n",
       "\t<tr><td>55.57</td><td>14</td><td>0.24</td><td>0.2</td><td>0.048</td><td>0.04</td><td>0.2</td><td>0.008</td><td>0.28</td><td>5</td><td>⋯</td><td>0.4</td><td>0</td><td>0.2</td><td>0</td><td>2</td><td>1.456</td><td>0.4</td><td>0.5</td><td>0.2912</td><td>0</td></tr>\n",
       "\t<tr><td>55.57</td><td>18</td><td>0.20</td><td>0.2</td><td>0.040</td><td>0.00</td><td>0.2</td><td>0.000</td><td>0.20</td><td>5</td><td>⋯</td><td>0.4</td><td>0</td><td>0.2</td><td>0</td><td>2</td><td>1.440</td><td>0.4</td><td>0.5</td><td>0.2880</td><td>0</td></tr>\n",
       "\t<tr><td>55.57</td><td>15</td><td>0.00</td><td>0.2</td><td>0.000</td><td>0.00</td><td>0.2</td><td>0.000</td><td>0.00</td><td>5</td><td>⋯</td><td>0.4</td><td>0</td><td>0.2</td><td>0</td><td>2</td><td>1.464</td><td>0.4</td><td>0.5</td><td>0.2928</td><td>0</td></tr>\n",
       "</tbody>\n",
       "</table>\n"
      ],
      "text/latex": [
       "A spec\\_tbl\\_df: 776 × 27\n",
       "\\begin{tabular}{lllllllllllllllllllll}\n",
       " Sector\\_score & LOCATION\\_ID & PARA\\_A & Score\\_A & Risk\\_A & PARA\\_B & Score\\_B & Risk\\_B & TOTAL & numbers & ⋯ & RiSk\\_E & History & Prob & Risk\\_F & Score & Inherent\\_Risk & CONTROL\\_RISK & Detection\\_Risk & Audit\\_Risk & Risk\\\\\n",
       " <dbl> & <chr> & <dbl> & <dbl> & <dbl> & <dbl> & <dbl> & <dbl> & <dbl> & <dbl> & ⋯ & <dbl> & <dbl> & <dbl> & <dbl> & <dbl> & <dbl> & <dbl> & <dbl> & <dbl> & <dbl>\\\\\n",
       "\\hline\n",
       "\t 3.89 & 23 & 4.18 & 0.6 & 2.508 & 2.50 & 0.2 & 0.500 & 6.68 & 5 & ⋯ & 0.4 & 0 & 0.2 & 0 & 2.4 & 8.574 & 0.4 & 0.5 & 1.7148 & 1\\\\\n",
       "\t 3.89 & 6  & 0.00 & 0.2 & 0.000 & 4.83 & 0.2 & 0.966 & 4.83 & 5 & ⋯ & 0.4 & 0 & 0.2 & 0 & 2.0 & 2.554 & 0.4 & 0.5 & 0.5108 & 0\\\\\n",
       "\t 3.89 & 6  & 0.51 & 0.2 & 0.102 & 0.23 & 0.2 & 0.046 & 0.74 & 5 & ⋯ & 0.4 & 0 & 0.2 & 0 & 2.0 & 1.548 & 0.4 & 0.5 & 0.3096 & 0\\\\\n",
       "\t ⋮ & ⋮ & ⋮ & ⋮ & ⋮ & ⋮ & ⋮ & ⋮ & ⋮ & ⋮ & ⋱ & ⋮ & ⋮ & ⋮ & ⋮ & ⋮ & ⋮ & ⋮ & ⋮ & ⋮ & ⋮\\\\\n",
       "\t 55.57 & 14 & 0.24 & 0.2 & 0.048 & 0.04 & 0.2 & 0.008 & 0.28 & 5 & ⋯ & 0.4 & 0 & 0.2 & 0 & 2 & 1.456 & 0.4 & 0.5 & 0.2912 & 0\\\\\n",
       "\t 55.57 & 18 & 0.20 & 0.2 & 0.040 & 0.00 & 0.2 & 0.000 & 0.20 & 5 & ⋯ & 0.4 & 0 & 0.2 & 0 & 2 & 1.440 & 0.4 & 0.5 & 0.2880 & 0\\\\\n",
       "\t 55.57 & 15 & 0.00 & 0.2 & 0.000 & 0.00 & 0.2 & 0.000 & 0.00 & 5 & ⋯ & 0.4 & 0 & 0.2 & 0 & 2 & 1.464 & 0.4 & 0.5 & 0.2928 & 0\\\\\n",
       "\\end{tabular}\n"
      ],
      "text/markdown": [
       "\n",
       "A spec_tbl_df: 776 × 27\n",
       "\n",
       "| Sector_score &lt;dbl&gt; | LOCATION_ID &lt;chr&gt; | PARA_A &lt;dbl&gt; | Score_A &lt;dbl&gt; | Risk_A &lt;dbl&gt; | PARA_B &lt;dbl&gt; | Score_B &lt;dbl&gt; | Risk_B &lt;dbl&gt; | TOTAL &lt;dbl&gt; | numbers &lt;dbl&gt; | ⋯ ⋯ | RiSk_E &lt;dbl&gt; | History &lt;dbl&gt; | Prob &lt;dbl&gt; | Risk_F &lt;dbl&gt; | Score &lt;dbl&gt; | Inherent_Risk &lt;dbl&gt; | CONTROL_RISK &lt;dbl&gt; | Detection_Risk &lt;dbl&gt; | Audit_Risk &lt;dbl&gt; | Risk &lt;dbl&gt; |\n",
       "|---|---|---|---|---|---|---|---|---|---|---|---|---|---|---|---|---|---|---|---|---|\n",
       "| 3.89 | 23 | 4.18 | 0.6 | 2.508 | 2.50 | 0.2 | 0.500 | 6.68 | 5 | ⋯ | 0.4 | 0 | 0.2 | 0 | 2.4 | 8.574 | 0.4 | 0.5 | 1.7148 | 1 |\n",
       "| 3.89 | 6  | 0.00 | 0.2 | 0.000 | 4.83 | 0.2 | 0.966 | 4.83 | 5 | ⋯ | 0.4 | 0 | 0.2 | 0 | 2.0 | 2.554 | 0.4 | 0.5 | 0.5108 | 0 |\n",
       "| 3.89 | 6  | 0.51 | 0.2 | 0.102 | 0.23 | 0.2 | 0.046 | 0.74 | 5 | ⋯ | 0.4 | 0 | 0.2 | 0 | 2.0 | 1.548 | 0.4 | 0.5 | 0.3096 | 0 |\n",
       "| ⋮ | ⋮ | ⋮ | ⋮ | ⋮ | ⋮ | ⋮ | ⋮ | ⋮ | ⋮ | ⋱ | ⋮ | ⋮ | ⋮ | ⋮ | ⋮ | ⋮ | ⋮ | ⋮ | ⋮ | ⋮ |\n",
       "| 55.57 | 14 | 0.24 | 0.2 | 0.048 | 0.04 | 0.2 | 0.008 | 0.28 | 5 | ⋯ | 0.4 | 0 | 0.2 | 0 | 2 | 1.456 | 0.4 | 0.5 | 0.2912 | 0 |\n",
       "| 55.57 | 18 | 0.20 | 0.2 | 0.040 | 0.00 | 0.2 | 0.000 | 0.20 | 5 | ⋯ | 0.4 | 0 | 0.2 | 0 | 2 | 1.440 | 0.4 | 0.5 | 0.2880 | 0 |\n",
       "| 55.57 | 15 | 0.00 | 0.2 | 0.000 | 0.00 | 0.2 | 0.000 | 0.00 | 5 | ⋯ | 0.4 | 0 | 0.2 | 0 | 2 | 1.464 | 0.4 | 0.5 | 0.2928 | 0 |\n",
       "\n"
      ],
      "text/plain": [
       "    Sector_score LOCATION_ID PARA_A Score_A Risk_A PARA_B Score_B Risk_B TOTAL\n",
       "1   3.89         23          4.18   0.6     2.508  2.50   0.2     0.500  6.68 \n",
       "2   3.89         6           0.00   0.2     0.000  4.83   0.2     0.966  4.83 \n",
       "3   3.89         6           0.51   0.2     0.102  0.23   0.2     0.046  0.74 \n",
       "⋮   ⋮            ⋮           ⋮      ⋮       ⋮      ⋮      ⋮       ⋮      ⋮    \n",
       "774 55.57        14          0.24   0.2     0.048  0.04   0.2     0.008  0.28 \n",
       "775 55.57        18          0.20   0.2     0.040  0.00   0.2     0.000  0.20 \n",
       "776 55.57        15          0.00   0.2     0.000  0.00   0.2     0.000  0.00 \n",
       "    numbers ⋯ RiSk_E History Prob Risk_F Score Inherent_Risk CONTROL_RISK\n",
       "1   5       ⋯ 0.4    0       0.2  0      2.4   8.574         0.4         \n",
       "2   5       ⋯ 0.4    0       0.2  0      2.0   2.554         0.4         \n",
       "3   5       ⋯ 0.4    0       0.2  0      2.0   1.548         0.4         \n",
       "⋮   ⋮       ⋱ ⋮      ⋮       ⋮    ⋮      ⋮     ⋮             ⋮           \n",
       "774 5       ⋯ 0.4    0       0.2  0      2     1.456         0.4         \n",
       "775 5       ⋯ 0.4    0       0.2  0      2     1.440         0.4         \n",
       "776 5       ⋯ 0.4    0       0.2  0      2     1.464         0.4         \n",
       "    Detection_Risk Audit_Risk Risk\n",
       "1   0.5            1.7148     1   \n",
       "2   0.5            0.5108     0   \n",
       "3   0.5            0.3096     0   \n",
       "⋮   ⋮              ⋮          ⋮   \n",
       "774 0.5            0.2912     0   \n",
       "775 0.5            0.2880     0   \n",
       "776 0.5            0.2928     0   "
      ]
     },
     "metadata": {},
     "output_type": "display_data"
    }
   ],
   "source": [
    "audit_trial_data\n",
    "audit_risk_data"
   ]
  },
  {
   "cell_type": "code",
   "execution_count": null,
   "metadata": {},
   "outputs": [],
   "source": []
  }
 ],
 "metadata": {
  "kernelspec": {
   "display_name": "R",
   "language": "R",
   "name": "ir"
  },
  "language_info": {
   "codemirror_mode": "r",
   "file_extension": ".r",
   "mimetype": "text/x-r-source",
   "name": "R",
   "pygments_lexer": "r",
   "version": "4.0.0"
  }
 },
 "nbformat": 4,
 "nbformat_minor": 4
}
