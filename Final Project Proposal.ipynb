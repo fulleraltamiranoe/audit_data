{
 "cells": [
  {
   "cell_type": "markdown",
   "metadata": {},
   "source": [
    "# **Title: [insert here]**"
   ]
  },
  {
   "cell_type": "markdown",
   "metadata": {},
   "source": [
    "### **Introduction**"
   ]
  },
  {
   "cell_type": "markdown",
   "metadata": {},
   "source": [
    "Audit is defined as the process of evaluating a business’s financial statements to ensure that these records concur with the expectations of standard accounting laws. The ability to detect fraudulent activity in a firm (i.e. a business) which may warrant an audit is essential to modern-day, efficient audit management. In this investigation, we will attempt to answer a **predictive** question with **classification** based on various audit risk factors: Given a firm’s amount of money involved in misstatements in past audits (“Money Value [USD]”) and total amount of discrepancies found in other reports (“Total [USD]”), can we accurately predict a firm’s appropriate Risk Class: “fraud” or “no fraud?” \n",
    "\n",
    "The “Audit Data” dataset will be used to answer this question. This dataset contains various predictors about 777 Indian firms over a one-year period from 2015 to 2016, cataloging past and present historical audit risk factors. A classification model can be built upon these three selected factors to predict and identify potentially fraudulent firms."
   ]
  },
  {
   "cell_type": "code",
   "execution_count": null,
   "metadata": {},
   "outputs": [],
   "source": []
  }
 ],
 "metadata": {
  "kernelspec": {
   "display_name": "R",
   "language": "R",
   "name": "ir"
  },
  "language_info": {
   "codemirror_mode": "r",
   "file_extension": ".r",
   "mimetype": "text/x-r-source",
   "name": "R",
   "pygments_lexer": "r",
   "version": "4.0.0"
  }
 },
 "nbformat": 4,
 "nbformat_minor": 4
}
